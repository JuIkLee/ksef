{
 "cells": [
  {
   "cell_type": "code",
   "execution_count": 5,
   "id": "3668f246",
   "metadata": {},
   "outputs": [],
   "source": [
    "import os, glob, cv2\n",
    "import numpy as np\n",
    "import pandas as pd\n",
    "import matplotlib.pyplot as plt\n",
    "from sklearn.model_selection import train_test_split\n",
    "import tensorflow as tf\n",
    "from tensorflow.keras.layers import *\n",
    "from tensorflow.keras import backend as K\n",
    "from tensorflow.keras.models import Sequential\n",
    "from tensorflow.keras.preprocessing.image import ImageDataGenerator\n",
    "#from tensorflow.python.keras.utils import get_custom_objects\n",
    "import efficientnet.tfkeras as efn\n",
    "from tqdm import tqdm"
   ]
  },
  {
   "cell_type": "code",
   "execution_count": 6,
   "id": "472007b1",
   "metadata": {},
   "outputs": [],
   "source": [
    "SEED = 42\n",
    "EPOCHS = 100\n",
    "BATCH_SIZE = 32\n",
    "IMG_HEIGHT = 192\n",
    "IMG_WIDTH = 256\n",
    "\n",
    "# cataract dataset\n",
    "IMG_ROOT = './data/cataract/dataset/dataset/'\n",
    "IMG_DIR = [IMG_ROOT+'1_normal', \n",
    "           IMG_ROOT+'2_cataract', \n",
    "           IMG_ROOT+'2_glaucoma', \n",
    "           IMG_ROOT+'3_retina_disease']\n",
    "\n",
    "# ocular-disease-recognition dataset\n",
    "OCU_IMG_ROOT = './data/ODIR-5K/Training Images/'\n",
    "ocu_df = pd.read_excel('./data/ODIR-5K/data.xlsx')"
   ]
  },
  {
   "cell_type": "code",
   "execution_count": 7,
   "id": "3d9dd73e",
   "metadata": {},
   "outputs": [],
   "source": [
    "def seed_everything(seed):\n",
    "    np.random.seed(seed)\n",
    "    os.environ['PYTHONHASHSEED'] = str(seed)\n",
    "    tf.random.set_seed(seed)\n",
    "\n",
    "seed_everything(SEED)"
   ]
  },
  {
   "cell_type": "code",
   "execution_count": 24,
   "id": "b6b4cfb2",
   "metadata": {},
   "outputs": [],
   "source": [
    "filepaths = glob.glob(IMG_ROOT+'*/*')"
   ]
  },
  {
   "cell_type": "code",
   "execution_count": 25,
   "id": "1f5ed8b3",
   "metadata": {},
   "outputs": [
    {
     "name": "stdout",
     "output_type": "stream",
     "text": [
      "[]\n"
     ]
    }
   ],
   "source": [
    "print(filepaths)"
   ]
  },
  {
   "cell_type": "code",
   "execution_count": null,
   "id": "e6c58810",
   "metadata": {},
   "outputs": [],
   "source": []
  },
  {
   "cell_type": "code",
   "execution_count": null,
   "id": "c02bfc04",
   "metadata": {},
   "outputs": [],
   "source": []
  },
  {
   "cell_type": "code",
   "execution_count": null,
   "id": "031fd3e4",
   "metadata": {},
   "outputs": [],
   "source": []
  },
  {
   "cell_type": "code",
   "execution_count": null,
   "id": "818868a7",
   "metadata": {},
   "outputs": [],
   "source": []
  }
 ],
 "metadata": {
  "kernelspec": {
   "display_name": "Python 3 (ipykernel)",
   "language": "python",
   "name": "python3"
  },
  "language_info": {
   "codemirror_mode": {
    "name": "ipython",
    "version": 3
   },
   "file_extension": ".py",
   "mimetype": "text/x-python",
   "name": "python",
   "nbconvert_exporter": "python",
   "pygments_lexer": "ipython3",
   "version": "3.9.13"
  }
 },
 "nbformat": 4,
 "nbformat_minor": 5
}
